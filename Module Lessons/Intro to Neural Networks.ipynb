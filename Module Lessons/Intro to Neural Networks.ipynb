{
 "cells": [
  {
   "cell_type": "code",
   "execution_count": 1,
   "metadata": {},
   "outputs": [],
   "source": [
    "# Import our dependencies\n",
    "import pandas as pd\n",
    "import matplotlib as plt\n",
    "from sklearn.datasets import make_blobs\n",
    "import sklearn as skl\n",
    "import tensorflow as tf"
   ]
  },
  {
   "cell_type": "code",
   "execution_count": 2,
   "metadata": {},
   "outputs": [
    {
     "data": {
      "text/plain": [
       "<AxesSubplot:xlabel='Feature 1', ylabel='Feature 2'>"
      ]
     },
     "execution_count": 2,
     "metadata": {},
     "output_type": "execute_result"
    },
    {
     "data": {
      "image/png": "[encoded data removed]",
      "text/plain": [
       "<Figure size 432x288 with 2 Axes>"
      ]
     },
     "metadata": {
      "needs_background": "light"
     },
     "output_type": "display_data"
    }
   ],
   "source": [
    "# Generate dummy dataset\n",
    "X, y = make_blobs(n_samples=1000, centers=2, n_features=2, random_state=78)\n",
    "\n",
    "# Creating a DataFrame with the dummy data\n",
    "df = pd.DataFrame(X, columns=[\"Feature 1\", \"Feature 2\"])\n",
    "df[\"Target\"] = y\n",
    "\n",
    "# Plotting the dummy data\n",
    "df.plot.scatter(x=\"Feature 1\", y=\"Feature 2\", c=\"Target\", colormap=\"winter\")"
   ]
  },
  {
   "cell_type": "code",
   "execution_count": 3,
   "metadata": {},
   "outputs": [],
   "source": [
    "# Use sklearn to split dataset\n",
    "from sklearn.model_selection import train_test_split\n",
    "X_train, X_test, y_train, y_test = train_test_split(X,y, random_state=78)"
   ]
  },
  {
   "cell_type": "code",
   "execution_count": 4,
   "metadata": {},
   "outputs": [],
   "source": [
    "# Create scaler instance\n",
    "X_scaler = skl.preprocessing.StandardScaler()\n",
    "\n",
    "# Fit the scaler\n",
    "X_scaler.fit(X_train)\n",
    "\n",
    "# Scale the data\n",
    "X_train_scaled = X_scaler.transform(X_train)\n",
    "X_test_scaled = X_scaler.transform(X_test)"
   ]
  },
  {
   "cell_type": "code",
   "execution_count": 5,
   "metadata": {},
   "outputs": [],
   "source": [
    "# Create the Keras Sequential model\n",
    "nn_model = tf.keras.models.Sequential()"
   ]
  },
  {
   "cell_type": "code",
   "execution_count": 6,
   "metadata": {},
   "outputs": [],
   "source": [
    "# Add our first Dense layer, including the input layer\n",
    "nn_model.add(tf.keras.layers.Dense(units=1, activation=\"relu\", input_dim=2))"
   ]
  },
  {
   "cell_type": "code",
   "execution_count": 7,
   "metadata": {},
   "outputs": [],
   "source": [
    "# add the output layer that uses a probability activation fucntion\n",
    "nn_model.add(tf.keras.layers.Dense(units=1, activation=\"sigmoid\"))"
   ]
  },
  {
   "cell_type": "code",
   "execution_count": 8,
   "metadata": {},
   "outputs": [
    {
     "name": "stdout",
     "output_type": "stream",
     "text": [
      "Model: \"sequential\"\n",
      "_________________________________________________________________\n",
      "Layer (type)                 Output Shape              Param #   \n",
      "=================================================================\n",
      "dense (Dense)                (None, 1)                 3         \n",
      "_________________________________________________________________\n",
      "dense_1 (Dense)              (None, 1)                 2         \n",
      "=================================================================\n",
      "Total params: 5\n",
      "Trainable params: 5\n",
      "Non-trainable params: 0\n",
      "_________________________________________________________________\n"
     ]
    }
   ],
   "source": [
    "# Check the structure of the Sequential model\n",
    "nn_model.summary()"
   ]
  },
  {
   "cell_type": "code",
   "execution_count": 9,
   "metadata": {},
   "outputs": [],
   "source": [
    "# Compile the Sequential model together and customize metrics\n",
    "nn_model.compile(loss=\"binary_crossentropy\", optimizer=\"adam\", metrics=[\"accuracy\"])"
   ]
  },
  {
   "cell_type": "code",
   "execution_count": 10,
   "metadata": {},
   "outputs": [
    {
     "name": "stdout",
     "output_type": "stream",
     "text": [
      "Epoch 1/100\n",
      "24/24 [==============================] - 0s 849us/step - loss: 0.5094 - accuracy: 0.9947\n",
      "Epoch 2/100\n",
      "24/24 [==============================] - 0s 666us/step - loss: 0.4951 - accuracy: 0.9947\n",
      "Epoch 3/100\n",
      "24/24 [==============================] - 0s 680us/step - loss: 0.4814 - accuracy: 0.9947\n",
      "Epoch 4/100\n",
      "24/24 [==============================] - 0s 597us/step - loss: 0.4680 - accuracy: 0.9947\n",
      "Epoch 5/100\n",
      "24/24 [==============================] - 0s 567us/step - loss: 0.4549 - accuracy: 0.9947\n",
      "Epoch 6/100\n",
      "24/24 [==============================] - 0s 599us/step - loss: 0.4422 - accuracy: 0.9947\n",
      "Epoch 7/100\n",
      "24/24 [==============================] - 0s 561us/step - loss: 0.4300 - accuracy: 0.9947\n",
      "Epoch 8/100\n",
      "24/24 [==============================] - 0s 545us/step - loss: 0.4181 - accuracy: 0.9947\n",
      "Epoch 9/100\n",
      "24/24 [==============================] - 0s 534us/step - loss: 0.4067 - accuracy: 0.9960\n",
      "Epoch 10/100\n",
      "24/24 [==============================] - 0s 551us/step - loss: 0.3957 - accuracy: 0.9973\n",
      "Epoch 11/100\n",
      "24/24 [==============================] - 0s 551us/step - loss: 0.3851 - accuracy: 0.9960\n",
      "Epoch 12/100\n",
      "24/24 [==============================] - 0s 564us/step - loss: 0.3749 - accuracy: 0.9960\n",
      "Epoch 13/100\n",
      "24/24 [==============================] - 0s 552us/step - loss: 0.3651 - accuracy: 0.9973\n",
      "Epoch 14/100\n",
      "24/24 [==============================] - 0s 618us/step - loss: 0.3558 - accuracy: 0.9973\n",
      "Epoch 15/100\n",
      "24/24 [==============================] - 0s 591us/step - loss: 0.3467 - accuracy: 0.9973\n",
      "Epoch 16/100\n",
      "24/24 [==============================] - 0s 563us/step - loss: 0.3379 - accuracy: 0.9973\n",
      "Epoch 17/100\n",
      "24/24 [==============================] - 0s 553us/step - loss: 0.3296 - accuracy: 0.9973\n",
      "Epoch 18/100\n",
      "24/24 [==============================] - 0s 528us/step - loss: 0.3215 - accuracy: 0.9973\n",
      "Epoch 19/100\n",
      "24/24 [==============================] - 0s 547us/step - loss: 0.3137 - accuracy: 0.9973\n",
      "Epoch 20/100\n",
      "24/24 [==============================] - 0s 546us/step - loss: 0.3062 - accuracy: 0.9987\n",
      "Epoch 21/100\n",
      "24/24 [==============================] - 0s 566us/step - loss: 0.2989 - accuracy: 1.0000\n",
      "Epoch 22/100\n",
      "24/24 [==============================] - 0s 576us/step - loss: 0.2919 - accuracy: 1.0000\n",
      "Epoch 23/100\n",
      "24/24 [==============================] - 0s 571us/step - loss: 0.2851 - accuracy: 1.0000\n",
      "Epoch 24/100\n",
      "24/24 [==============================] - 0s 571us/step - loss: 0.2786 - accuracy: 1.0000\n",
      "Epoch 25/100\n",
      "24/24 [==============================] - 0s 576us/step - loss: 0.2722 - accuracy: 1.0000\n",
      "Epoch 26/100\n",
      "24/24 [==============================] - 0s 535us/step - loss: 0.2661 - accuracy: 1.0000\n",
      "Epoch 27/100\n",
      "24/24 [==============================] - 0s 527us/step - loss: 0.2602 - accuracy: 1.0000\n",
      "Epoch 28/100\n",
      "24/24 [==============================] - 0s 546us/step - loss: 0.2545 - accuracy: 1.0000\n",
      "Epoch 29/100\n",
      "24/24 [==============================] - 0s 555us/step - loss: 0.2490 - accuracy: 1.0000\n",
      "Epoch 30/100\n",
      "24/24 [==============================] - 0s 560us/step - loss: 0.2436 - accuracy: 1.0000\n",
      "Epoch 31/100\n",
      "24/24 [==============================] - 0s 562us/step - loss: 0.2384 - accuracy: 1.0000\n",
      "Epoch 32/100\n",
      "24/24 [==============================] - 0s 597us/step - loss: 0.2333 - accuracy: 1.0000\n",
      "Epoch 33/100\n",
      "24/24 [==============================] - 0s 543us/step - loss: 0.2284 - accuracy: 1.0000\n",
      "Epoch 34/100\n",
      "24/24 [==============================] - 0s 550us/step - loss: 0.2237 - accuracy: 1.0000\n",
      "Epoch 35/100\n",
      "24/24 [==============================] - 0s 551us/step - loss: 0.2191 - accuracy: 1.0000\n",
      "Epoch 36/100\n",
      "24/24 [==============================] - 0s 541us/step - loss: 0.2146 - accuracy: 1.0000\n",
      "Epoch 37/100\n",
      "24/24 [==============================] - 0s 571us/step - loss: 0.2102 - accuracy: 1.0000\n",
      "Epoch 38/100\n",
      "24/24 [==============================] - 0s 559us/step - loss: 0.2060 - accuracy: 1.0000\n",
      "Epoch 39/100\n",
      "24/24 [==============================] - 0s 558us/step - loss: 0.2019 - accuracy: 1.0000\n",
      "Epoch 40/100\n",
      "24/24 [==============================] - 0s 547us/step - loss: 0.1979 - accuracy: 1.0000\n",
      "Epoch 41/100\n",
      "24/24 [==============================] - 0s 554us/step - loss: 0.1939 - accuracy: 1.0000\n",
      "Epoch 42/100\n",
      "24/24 [==============================] - 0s 545us/step - loss: 0.1902 - accuracy: 1.0000\n",
      "Epoch 43/100\n",
      "24/24 [==============================] - 0s 568us/step - loss: 0.1865 - accuracy: 1.0000\n",
      "Epoch 44/100\n",
      "24/24 [==============================] - 0s 561us/step - loss: 0.1829 - accuracy: 1.0000\n",
      "Epoch 45/100\n",
      "24/24 [==============================] - 0s 580us/step - loss: 0.1794 - accuracy: 1.0000\n",
      "Epoch 46/100\n",
      "24/24 [==============================] - 0s 535us/step - loss: 0.1761 - accuracy: 1.0000\n",
      "Epoch 47/100\n",
      "24/24 [==============================] - 0s 580us/step - loss: 0.1727 - accuracy: 1.0000\n",
      "Epoch 48/100\n",
      "24/24 [==============================] - 0s 568us/step - loss: 0.1695 - accuracy: 1.0000\n",
      "Epoch 49/100\n",
      "24/24 [==============================] - 0s 538us/step - loss: 0.1664 - accuracy: 1.0000\n",
      "Epoch 50/100\n",
      "24/24 [==============================] - 0s 559us/step - loss: 0.1633 - accuracy: 1.0000\n",
      "Epoch 51/100\n",
      "24/24 [==============================] - 0s 618us/step - loss: 0.1603 - accuracy: 1.0000\n",
      "Epoch 52/100\n",
      "24/24 [==============================] - 0s 558us/step - loss: 0.1574 - accuracy: 1.0000\n",
      "Epoch 53/100\n",
      "24/24 [==============================] - 0s 530us/step - loss: 0.1546 - accuracy: 1.0000\n",
      "Epoch 54/100\n",
      "24/24 [==============================] - 0s 573us/step - loss: 0.1518 - accuracy: 1.0000\n",
      "Epoch 55/100\n",
      "24/24 [==============================] - 0s 579us/step - loss: 0.1491 - accuracy: 1.0000\n",
      "Epoch 56/100\n",
      "24/24 [==============================] - 0s 533us/step - loss: 0.1465 - accuracy: 1.0000\n",
      "Epoch 57/100\n",
      "24/24 [==============================] - 0s 525us/step - loss: 0.1439 - accuracy: 1.0000\n",
      "Epoch 58/100\n",
      "24/24 [==============================] - 0s 522us/step - loss: 0.1414 - accuracy: 1.0000\n",
      "Epoch 59/100\n",
      "24/24 [==============================] - 0s 531us/step - loss: 0.1389 - accuracy: 1.0000\n",
      "Epoch 60/100\n",
      "24/24 [==============================] - 0s 536us/step - loss: 0.1365 - accuracy: 1.0000\n",
      "Epoch 61/100\n",
      "24/24 [==============================] - 0s 549us/step - loss: 0.1341 - accuracy: 1.0000\n",
      "Epoch 62/100\n",
      "24/24 [==============================] - 0s 530us/step - loss: 0.1318 - accuracy: 1.0000\n",
      "Epoch 63/100\n",
      "24/24 [==============================] - 0s 550us/step - loss: 0.1296 - accuracy: 1.0000\n",
      "Epoch 64/100\n",
      "24/24 [==============================] - 0s 515us/step - loss: 0.1274 - accuracy: 1.0000\n",
      "Epoch 65/100\n",
      "24/24 [==============================] - 0s 544us/step - loss: 0.1253 - accuracy: 1.0000\n",
      "Epoch 66/100\n",
      "24/24 [==============================] - 0s 549us/step - loss: 0.1232 - accuracy: 1.0000\n",
      "Epoch 67/100\n",
      "24/24 [==============================] - 0s 517us/step - loss: 0.1211 - accuracy: 1.0000\n",
      "Epoch 68/100\n",
      "24/24 [==============================] - 0s 537us/step - loss: 0.1191 - accuracy: 1.0000\n",
      "Epoch 69/100\n",
      "24/24 [==============================] - 0s 540us/step - loss: 0.1172 - accuracy: 1.0000\n",
      "Epoch 70/100\n",
      "24/24 [==============================] - 0s 521us/step - loss: 0.1153 - accuracy: 1.0000\n",
      "Epoch 71/100\n",
      "24/24 [==============================] - 0s 516us/step - loss: 0.1134 - accuracy: 1.0000\n",
      "Epoch 72/100\n",
      "24/24 [==============================] - 0s 515us/step - loss: 0.1116 - accuracy: 1.0000\n",
      "Epoch 73/100\n",
      "24/24 [==============================] - 0s 528us/step - loss: 0.1097 - accuracy: 1.0000\n",
      "Epoch 74/100\n",
      "24/24 [==============================] - 0s 552us/step - loss: 0.1080 - accuracy: 1.0000\n",
      "Epoch 75/100\n",
      "24/24 [==============================] - 0s 572us/step - loss: 0.1063 - accuracy: 1.0000\n",
      "Epoch 76/100\n",
      "24/24 [==============================] - 0s 519us/step - loss: 0.1046 - accuracy: 1.0000\n",
      "Epoch 77/100\n",
      "24/24 [==============================] - 0s 547us/step - loss: 0.1030 - accuracy: 1.0000\n",
      "Epoch 78/100\n",
      "24/24 [==============================] - 0s 536us/step - loss: 0.1013 - accuracy: 1.0000\n",
      "Epoch 79/100\n",
      "24/24 [==============================] - 0s 497us/step - loss: 0.0998 - accuracy: 1.0000\n",
      "Epoch 80/100\n",
      "24/24 [==============================] - 0s 508us/step - loss: 0.0982 - accuracy: 1.0000\n",
      "Epoch 81/100\n"
     ]
    },
    {
     "name": "stdout",
     "output_type": "stream",
     "text": [
      "24/24 [==============================] - 0s 614us/step - loss: 0.0967 - accuracy: 1.0000\n",
      "Epoch 82/100\n",
      "24/24 [==============================] - 0s 575us/step - loss: 0.0952 - accuracy: 1.0000\n",
      "Epoch 83/100\n",
      "24/24 [==============================] - 0s 550us/step - loss: 0.0937 - accuracy: 1.0000\n",
      "Epoch 84/100\n",
      "24/24 [==============================] - 0s 509us/step - loss: 0.0923 - accuracy: 1.0000\n",
      "Epoch 85/100\n",
      "24/24 [==============================] - 0s 535us/step - loss: 0.0909 - accuracy: 1.0000\n",
      "Epoch 86/100\n",
      "24/24 [==============================] - 0s 535us/step - loss: 0.0895 - accuracy: 1.0000\n",
      "Epoch 87/100\n",
      "24/24 [==============================] - 0s 532us/step - loss: 0.0882 - accuracy: 1.0000\n",
      "Epoch 88/100\n",
      "24/24 [==============================] - 0s 538us/step - loss: 0.0868 - accuracy: 1.0000\n",
      "Epoch 89/100\n",
      "24/24 [==============================] - 0s 547us/step - loss: 0.0856 - accuracy: 1.0000\n",
      "Epoch 90/100\n",
      "24/24 [==============================] - 0s 520us/step - loss: 0.0843 - accuracy: 1.0000\n",
      "Epoch 91/100\n",
      "24/24 [==============================] - 0s 518us/step - loss: 0.0830 - accuracy: 1.0000\n",
      "Epoch 92/100\n",
      "24/24 [==============================] - 0s 514us/step - loss: 0.0818 - accuracy: 1.0000\n",
      "Epoch 93/100\n",
      "24/24 [==============================] - 0s 526us/step - loss: 0.0806 - accuracy: 1.0000\n",
      "Epoch 94/100\n",
      "24/24 [==============================] - 0s 523us/step - loss: 0.0794 - accuracy: 1.0000\n",
      "Epoch 95/100\n",
      "24/24 [==============================] - 0s 562us/step - loss: 0.0783 - accuracy: 1.0000\n",
      "Epoch 96/100\n",
      "24/24 [==============================] - 0s 514us/step - loss: 0.0772 - accuracy: 1.0000\n",
      "Epoch 97/100\n",
      "24/24 [==============================] - 0s 496us/step - loss: 0.0760 - accuracy: 1.0000\n",
      "Epoch 98/100\n",
      "24/24 [==============================] - 0s 529us/step - loss: 0.0750 - accuracy: 1.0000\n",
      "Epoch 99/100\n",
      "24/24 [==============================] - 0s 527us/step - loss: 0.0739 - accuracy: 1.0000\n",
      "Epoch 100/100\n",
      "24/24 [==============================] - 0s 498us/step - loss: 0.0728 - accuracy: 1.0000\n"
     ]
    }
   ],
   "source": [
    "# Fit the model to the training data\n",
    "fit_model = nn_model.fit(X_train_scaled, y_train, epochs=100)"
   ]
  },
  {
   "cell_type": "code",
   "execution_count": 11,
   "metadata": {},
   "outputs": [
    {
     "data": {
      "text/plain": [
       "<AxesSubplot:>"
      ]
     },
     "execution_count": 11,
     "metadata": {},
     "output_type": "execute_result"
    },
    {
     "data": {
      "image/png": "[encoded data removed]",
      "text/plain": [
       "<Figure size 432x288 with 1 Axes>"
      ]
     },
     "metadata": {
      "needs_background": "light"
     },
     "output_type": "display_data"
    }
   ],
   "source": [
    "# Create a DataFrame containing training history\n",
    "history_df = pd.DataFrame(fit_model.history, index=range(1,len(fit_model.history[\"loss\"])+1))\n",
    "\n",
    "# Plot the loss\n",
    "history_df.plot(y=\"loss\")"
   ]
  },
  {
   "cell_type": "code",
   "execution_count": 12,
   "metadata": {},
   "outputs": [
    {
     "data": {
      "text/plain": [
       "<AxesSubplot:>"
      ]
     },
     "execution_count": 12,
     "metadata": {},
     "output_type": "execute_result"
    },
    {
     "data": {
      "image/png": "[encoded data removed]",
      "text/plain": [
       "<Figure size 432x288 with 1 Axes>"
      ]
     },
     "metadata": {
      "needs_background": "light"
     },
     "output_type": "display_data"
    }
   ],
   "source": [
    "# Plot the accuracy\n",
    "history_df.plot(y=\"accuracy\")"
   ]
  },
  {
   "cell_type": "code",
   "execution_count": 13,
   "metadata": {},
   "outputs": [
    {
     "name": "stdout",
     "output_type": "stream",
     "text": [
      "8/8 - 0s - loss: 0.0679 - accuracy: 1.0000\n",
      "Loss: 0.06792723387479782, Accuracy: 1.0\n"
     ]
    }
   ],
   "source": [
    "# Evaluate the model using the test data\n",
    "model_loss, model_accuracy = nn_model.evaluate(X_test_scaled, y_test, verbose=2)\n",
    "print(f\"Loss: {model_loss}, Accuracy: {model_accuracy}\")"
   ]
  },
  {
   "cell_type": "code",
   "execution_count": 15,
   "metadata": {},
   "outputs": [
    {
     "data": {
      "text/plain": [
       "array([[0],\n",
       "       [1],\n",
       "       [0],\n",
       "       [1],\n",
       "       [0],\n",
       "       [0],\n",
       "       [1],\n",
       "       [1],\n",
       "       [1],\n",
       "       [0]], dtype=int32)"
      ]
     },
     "execution_count": 15,
     "metadata": {},
     "output_type": "execute_result"
    }
   ],
   "source": [
    "# Predict the classification of a new set of blob data\n",
    "new_X, new_Y = make_blobs(n_samples=10, centers=2, n_features=2, random_state=78)\n",
    "new_X_scaled = X_scaler.transform(new_X)\n",
    "(nn_model.predict(new_X_scaled) >0.5).astype(\"int32\")"
   ]
  },
  {
   "cell_type": "code",
   "execution_count": 17,
   "metadata": {},
   "outputs": [
    {
     "data": {
      "text/plain": [
       "<AxesSubplot:xlabel='Feature 1', ylabel='Feature 2'>"
      ]
     },
     "execution_count": 17,
     "metadata": {},
     "output_type": "execute_result"
    },
    {
     "data": {
      "image/png": "[encoded data removed]",
      "text/plain": [
       "<Figure size 432x288 with 2 Axes>"
      ]
     },
     "metadata": {
      "needs_background": "light"
     },
     "output_type": "display_data"
    }
   ],
   "source": [
    "from sklearn.datasets import make_moons\n",
    "\n",
    "# Creating dummy nonlinear data\n",
    "X_moons, y_moons = make_moons(n_samples=1000, noise=0.08, random_state=78)\n",
    "\n",
    "# Transforming y_moons to a vertical vector\n",
    "y_moons = y_moons.reshape(-1, 1)\n",
    "\n",
    "# Creating a DataFrame to plot the nonlinear dummy data\n",
    "df_moons = pd.DataFrame(X_moons, columns=[\"Feature 1\", \"Feature 2\"])\n",
    "df_moons[\"Target\"] = y_moons\n",
    "\n",
    "# Plot the nonlinear dummy data\n",
    "df_moons.plot.scatter(x=\"Feature 1\",y=\"Feature 2\", c=\"Target\",colormap=\"winter\")"
   ]
  },
  {
   "cell_type": "code",
   "execution_count": 18,
   "metadata": {},
   "outputs": [],
   "source": [
    "# Create training and testing sets\n",
    "X_moon_train, X_moon_test, y_moon_train, y_moon_test = train_test_split(\n",
    "    X_moons, y_moons, random_state=78\n",
    ")\n",
    "\n",
    "# Create the scaler instance\n",
    "X_moon_scaler = skl.preprocessing.StandardScaler()\n",
    "\n",
    "# Fit the scaler\n",
    "X_moon_scaler.fit(X_moon_train)\n",
    "\n",
    "# Scale the data\n",
    "X_moon_train_scaled = X_moon_scaler.transform(X_moon_train)\n",
    "X_moon_test_scaled = X_moon_scaler.transform(X_moon_test)"
   ]
  },
  {
   "cell_type": "code",
   "execution_count": 25,
   "metadata": {},
   "outputs": [
    {
     "name": "stdout",
     "output_type": "stream",
     "text": [
      "Epoch 1/100\n",
      "24/24 [==============================] - 0s 871us/step - loss: 0.2507 - accuracy: 0.8920\n",
      "Epoch 2/100\n",
      "24/24 [==============================] - 0s 864us/step - loss: 0.2506 - accuracy: 0.8920\n",
      "Epoch 3/100\n",
      "24/24 [==============================] - 0s 823us/step - loss: 0.2505 - accuracy: 0.8920\n",
      "Epoch 4/100\n",
      "24/24 [==============================] - 0s 805us/step - loss: 0.2506 - accuracy: 0.8907\n",
      "Epoch 5/100\n",
      "24/24 [==============================] - 0s 795us/step - loss: 0.2504 - accuracy: 0.8933\n",
      "Epoch 6/100\n",
      "24/24 [==============================] - 0s 782us/step - loss: 0.2504 - accuracy: 0.8920\n",
      "Epoch 7/100\n",
      "24/24 [==============================] - 0s 793us/step - loss: 0.2504 - accuracy: 0.8920\n",
      "Epoch 8/100\n",
      "24/24 [==============================] - 0s 776us/step - loss: 0.2503 - accuracy: 0.8920\n",
      "Epoch 9/100\n",
      "24/24 [==============================] - 0s 748us/step - loss: 0.2502 - accuracy: 0.8920\n",
      "Epoch 10/100\n",
      "24/24 [==============================] - 0s 813us/step - loss: 0.2502 - accuracy: 0.8920\n",
      "Epoch 11/100\n",
      "24/24 [==============================] - 0s 782us/step - loss: 0.2502 - accuracy: 0.8920\n",
      "Epoch 12/100\n",
      "24/24 [==============================] - 0s 749us/step - loss: 0.2501 - accuracy: 0.8920\n",
      "Epoch 13/100\n",
      "24/24 [==============================] - 0s 748us/step - loss: 0.2500 - accuracy: 0.8920\n",
      "Epoch 14/100\n",
      "24/24 [==============================] - 0s 744us/step - loss: 0.2500 - accuracy: 0.8920\n",
      "Epoch 15/100\n",
      "24/24 [==============================] - 0s 826us/step - loss: 0.2499 - accuracy: 0.8920\n",
      "Epoch 16/100\n",
      "24/24 [==============================] - 0s 794us/step - loss: 0.2499 - accuracy: 0.8920\n",
      "Epoch 17/100\n",
      "24/24 [==============================] - 0s 777us/step - loss: 0.2498 - accuracy: 0.8920\n",
      "Epoch 18/100\n",
      "24/24 [==============================] - 0s 823us/step - loss: 0.2498 - accuracy: 0.8920\n",
      "Epoch 19/100\n",
      "24/24 [==============================] - 0s 793us/step - loss: 0.2497 - accuracy: 0.8920\n",
      "Epoch 20/100\n",
      "24/24 [==============================] - 0s 768us/step - loss: 0.2497 - accuracy: 0.8920\n",
      "Epoch 21/100\n",
      "24/24 [==============================] - 0s 955us/step - loss: 0.2496 - accuracy: 0.8933\n",
      "Epoch 22/100\n",
      "24/24 [==============================] - 0s 774us/step - loss: 0.2496 - accuracy: 0.8920\n",
      "Epoch 23/100\n",
      "24/24 [==============================] - 0s 774us/step - loss: 0.2495 - accuracy: 0.8920\n",
      "Epoch 24/100\n",
      "24/24 [==============================] - 0s 769us/step - loss: 0.2495 - accuracy: 0.8920\n",
      "Epoch 25/100\n",
      "24/24 [==============================] - 0s 773us/step - loss: 0.2494 - accuracy: 0.8920\n",
      "Epoch 26/100\n",
      "24/24 [==============================] - 0s 756us/step - loss: 0.2494 - accuracy: 0.8920\n",
      "Epoch 27/100\n",
      "24/24 [==============================] - 0s 775us/step - loss: 0.2493 - accuracy: 0.8920\n",
      "Epoch 28/100\n",
      "24/24 [==============================] - 0s 800us/step - loss: 0.2493 - accuracy: 0.8933\n",
      "Epoch 29/100\n",
      "24/24 [==============================] - 0s 761us/step - loss: 0.2492 - accuracy: 0.8933\n",
      "Epoch 30/100\n",
      "24/24 [==============================] - 0s 797us/step - loss: 0.2493 - accuracy: 0.8920\n",
      "Epoch 31/100\n",
      "24/24 [==============================] - 0s 738us/step - loss: 0.2493 - accuracy: 0.8907\n",
      "Epoch 32/100\n",
      "24/24 [==============================] - 0s 766us/step - loss: 0.2492 - accuracy: 0.8920\n",
      "Epoch 33/100\n",
      "24/24 [==============================] - 0s 787us/step - loss: 0.2491 - accuracy: 0.8920\n",
      "Epoch 34/100\n",
      "24/24 [==============================] - 0s 781us/step - loss: 0.2491 - accuracy: 0.8920\n",
      "Epoch 35/100\n",
      "24/24 [==============================] - 0s 805us/step - loss: 0.2490 - accuracy: 0.8920\n",
      "Epoch 36/100\n",
      "24/24 [==============================] - 0s 762us/step - loss: 0.2490 - accuracy: 0.8920\n",
      "Epoch 37/100\n",
      "24/24 [==============================] - 0s 780us/step - loss: 0.2490 - accuracy: 0.8920\n",
      "Epoch 38/100\n",
      "24/24 [==============================] - 0s 785us/step - loss: 0.2489 - accuracy: 0.8920\n",
      "Epoch 39/100\n",
      "24/24 [==============================] - 0s 779us/step - loss: 0.2489 - accuracy: 0.8933\n",
      "Epoch 40/100\n",
      "24/24 [==============================] - 0s 743us/step - loss: 0.2488 - accuracy: 0.8920\n",
      "Epoch 41/100\n",
      "24/24 [==============================] - 0s 801us/step - loss: 0.2489 - accuracy: 0.8907\n",
      "Epoch 42/100\n",
      "24/24 [==============================] - 0s 770us/step - loss: 0.2487 - accuracy: 0.8933\n",
      "Epoch 43/100\n",
      "24/24 [==============================] - 0s 816us/step - loss: 0.2487 - accuracy: 0.8920\n",
      "Epoch 44/100\n",
      "24/24 [==============================] - 0s 812us/step - loss: 0.2487 - accuracy: 0.8920\n",
      "Epoch 45/100\n",
      "24/24 [==============================] - 0s 784us/step - loss: 0.2487 - accuracy: 0.8920\n",
      "Epoch 46/100\n",
      "24/24 [==============================] - 0s 768us/step - loss: 0.2486 - accuracy: 0.8920\n",
      "Epoch 47/100\n",
      "24/24 [==============================] - 0s 834us/step - loss: 0.2485 - accuracy: 0.8920\n",
      "Epoch 48/100\n",
      "24/24 [==============================] - 0s 799us/step - loss: 0.2485 - accuracy: 0.8920\n",
      "Epoch 49/100\n",
      "24/24 [==============================] - 0s 789us/step - loss: 0.2485 - accuracy: 0.8920\n",
      "Epoch 50/100\n",
      "24/24 [==============================] - 0s 790us/step - loss: 0.2484 - accuracy: 0.8920\n",
      "Epoch 51/100\n",
      "24/24 [==============================] - 0s 786us/step - loss: 0.2484 - accuracy: 0.8920\n",
      "Epoch 52/100\n",
      "24/24 [==============================] - 0s 829us/step - loss: 0.2483 - accuracy: 0.8920\n",
      "Epoch 53/100\n",
      "24/24 [==============================] - 0s 825us/step - loss: 0.2483 - accuracy: 0.8920\n",
      "Epoch 54/100\n",
      "24/24 [==============================] - 0s 833us/step - loss: 0.2483 - accuracy: 0.8920\n",
      "Epoch 55/100\n",
      "24/24 [==============================] - 0s 810us/step - loss: 0.2483 - accuracy: 0.8920\n",
      "Epoch 56/100\n",
      "24/24 [==============================] - 0s 762us/step - loss: 0.2482 - accuracy: 0.8920\n",
      "Epoch 57/100\n",
      "24/24 [==============================] - 0s 836us/step - loss: 0.2482 - accuracy: 0.8920\n",
      "Epoch 58/100\n",
      "24/24 [==============================] - 0s 778us/step - loss: 0.2481 - accuracy: 0.8920\n",
      "Epoch 59/100\n",
      "24/24 [==============================] - 0s 771us/step - loss: 0.2481 - accuracy: 0.8920\n",
      "Epoch 60/100\n",
      "24/24 [==============================] - 0s 754us/step - loss: 0.2481 - accuracy: 0.8920\n",
      "Epoch 61/100\n",
      "24/24 [==============================] - 0s 794us/step - loss: 0.2481 - accuracy: 0.8920\n",
      "Epoch 62/100\n",
      "24/24 [==============================] - 0s 739us/step - loss: 0.2481 - accuracy: 0.8920\n",
      "Epoch 63/100\n",
      "24/24 [==============================] - 0s 771us/step - loss: 0.2480 - accuracy: 0.8920\n",
      "Epoch 64/100\n",
      "24/24 [==============================] - 0s 796us/step - loss: 0.2480 - accuracy: 0.8920\n",
      "Epoch 65/100\n",
      "24/24 [==============================] - 0s 806us/step - loss: 0.2479 - accuracy: 0.8920\n",
      "Epoch 66/100\n",
      "24/24 [==============================] - 0s 803us/step - loss: 0.2480 - accuracy: 0.8920\n",
      "Epoch 67/100\n",
      "24/24 [==============================] - 0s 737us/step - loss: 0.2479 - accuracy: 0.8920\n",
      "Epoch 68/100\n",
      "24/24 [==============================] - 0s 798us/step - loss: 0.2478 - accuracy: 0.8920\n",
      "Epoch 69/100\n",
      "24/24 [==============================] - 0s 794us/step - loss: 0.2478 - accuracy: 0.8920\n",
      "Epoch 70/100\n",
      "24/24 [==============================] - 0s 758us/step - loss: 0.2478 - accuracy: 0.8907\n",
      "Epoch 71/100\n",
      "24/24 [==============================] - 0s 747us/step - loss: 0.2478 - accuracy: 0.8920\n",
      "Epoch 72/100\n",
      "24/24 [==============================] - 0s 763us/step - loss: 0.2478 - accuracy: 0.8893\n",
      "Epoch 73/100\n",
      "24/24 [==============================] - 0s 796us/step - loss: 0.2478 - accuracy: 0.8907\n",
      "Epoch 74/100\n",
      "24/24 [==============================] - 0s 777us/step - loss: 0.2477 - accuracy: 0.8920\n",
      "Epoch 75/100\n",
      "24/24 [==============================] - 0s 801us/step - loss: 0.2476 - accuracy: 0.8920\n",
      "Epoch 76/100\n",
      "24/24 [==============================] - 0s 801us/step - loss: 0.2476 - accuracy: 0.8920\n",
      "Epoch 77/100\n",
      "24/24 [==============================] - 0s 766us/step - loss: 0.2477 - accuracy: 0.8920\n",
      "Epoch 78/100\n",
      "24/24 [==============================] - 0s 787us/step - loss: 0.2475 - accuracy: 0.8920\n",
      "Epoch 79/100\n",
      "24/24 [==============================] - 0s 739us/step - loss: 0.2475 - accuracy: 0.8920\n",
      "Epoch 80/100\n",
      "24/24 [==============================] - 0s 786us/step - loss: 0.2475 - accuracy: 0.8920\n",
      "Epoch 81/100\n"
     ]
    },
    {
     "name": "stdout",
     "output_type": "stream",
     "text": [
      "24/24 [==============================] - 0s 710us/step - loss: 0.2476 - accuracy: 0.8907\n",
      "Epoch 82/100\n",
      "24/24 [==============================] - 0s 815us/step - loss: 0.2475 - accuracy: 0.8920\n",
      "Epoch 83/100\n",
      "24/24 [==============================] - 0s 760us/step - loss: 0.2474 - accuracy: 0.8920\n",
      "Epoch 84/100\n",
      "24/24 [==============================] - 0s 739us/step - loss: 0.2473 - accuracy: 0.8920\n",
      "Epoch 85/100\n",
      "24/24 [==============================] - 0s 775us/step - loss: 0.2473 - accuracy: 0.8920\n",
      "Epoch 86/100\n",
      "24/24 [==============================] - 0s 715us/step - loss: 0.2473 - accuracy: 0.8920\n",
      "Epoch 87/100\n",
      "24/24 [==============================] - 0s 746us/step - loss: 0.2473 - accuracy: 0.8920\n",
      "Epoch 88/100\n",
      "24/24 [==============================] - 0s 764us/step - loss: 0.2474 - accuracy: 0.8920\n",
      "Epoch 89/100\n",
      "24/24 [==============================] - 0s 798us/step - loss: 0.2472 - accuracy: 0.8893\n",
      "Epoch 90/100\n",
      "24/24 [==============================] - 0s 831us/step - loss: 0.2472 - accuracy: 0.8920\n",
      "Epoch 91/100\n",
      "24/24 [==============================] - 0s 800us/step - loss: 0.2471 - accuracy: 0.8920\n",
      "Epoch 92/100\n",
      "24/24 [==============================] - 0s 799us/step - loss: 0.2472 - accuracy: 0.8920\n",
      "Epoch 93/100\n",
      "24/24 [==============================] - 0s 770us/step - loss: 0.2472 - accuracy: 0.8907\n",
      "Epoch 94/100\n",
      "24/24 [==============================] - 0s 776us/step - loss: 0.2471 - accuracy: 0.8907\n",
      "Epoch 95/100\n",
      "24/24 [==============================] - 0s 804us/step - loss: 0.2471 - accuracy: 0.8920\n",
      "Epoch 96/100\n",
      "24/24 [==============================] - 0s 784us/step - loss: 0.2470 - accuracy: 0.8920\n",
      "Epoch 97/100\n",
      "24/24 [==============================] - 0s 812us/step - loss: 0.2470 - accuracy: 0.8920\n",
      "Epoch 98/100\n",
      "24/24 [==============================] - 0s 772us/step - loss: 0.2470 - accuracy: 0.8920\n",
      "Epoch 99/100\n",
      "24/24 [==============================] - 0s 772us/step - loss: 0.2469 - accuracy: 0.8920\n",
      "Epoch 100/100\n",
      "24/24 [==============================] - 0s 747us/step - loss: 0.2469 - accuracy: 0.8920\n"
     ]
    }
   ],
   "source": [
    "# Training the model with the nonlinear data\n",
    "model_moon = nn_model.fit(X_moon_train_scaled, y_moon_train, epochs=100, shuffle=True)"
   ]
  },
  {
   "cell_type": "code",
   "execution_count": 26,
   "metadata": {},
   "outputs": [
    {
     "data": {
      "text/plain": [
       "<AxesSubplot:>"
      ]
     },
     "execution_count": 26,
     "metadata": {},
     "output_type": "execute_result"
    },
    {
     "data": {
      "image/png": "[encoded data removed]",
      "text/plain": [
       "<Figure size 432x288 with 1 Axes>"
      ]
     },
     "metadata": {
      "needs_background": "light"
     },
     "output_type": "display_data"
    }
   ],
   "source": [
    "# Create a DataFrame containing training history\n",
    "history_df = pd.DataFrame(model_moon.history, index=range(1,len(model_moon.history[\"loss\"])+1))\n",
    "\n",
    "# Plot the loss\n",
    "history_df.plot(y=\"loss\")"
   ]
  },
  {
   "cell_type": "code",
   "execution_count": 27,
   "metadata": {},
   "outputs": [
    {
     "data": {
      "text/plain": [
       "<AxesSubplot:>"
      ]
     },
     "execution_count": 27,
     "metadata": {},
     "output_type": "execute_result"
    },
    {
     "data": {
      "image/png": "[encoded data removed]",
      "text/plain": [
       "<Figure size 432x288 with 1 Axes>"
      ]
     },
     "metadata": {
      "needs_background": "light"
     },
     "output_type": "display_data"
    }
   ],
   "source": [
    "# Plot the loss\n",
    "history_df.plot(y=\"accuracy\")"
   ]
  },
  {
   "cell_type": "code",
   "execution_count": 28,
   "metadata": {},
   "outputs": [],
   "source": [
    "# Generate our new Sequential model\n",
    "new_model = tf.keras.models.Sequential()"
   ]
  },
  {
   "cell_type": "code",
   "execution_count": 29,
   "metadata": {},
   "outputs": [],
   "source": [
    "# Add the input and hidden layer\n",
    "number_inputs = 2\n",
    "number_hidden_nodes = 6\n",
    "\n",
    "new_model.add(tf.keras.layers.Dense(units=number_hidden_nodes, activation=\"relu\", input_dim=number_inputs))\n",
    "\n",
    "# Add the output layer that uses a probability activation function\n",
    "new_model.add(tf.keras.layers.Dense(units=1, activation=\"sigmoid\"))"
   ]
  },
  {
   "cell_type": "code",
   "execution_count": 30,
   "metadata": {},
   "outputs": [
    {
     "name": "stdout",
     "output_type": "stream",
     "text": [
      "Epoch 1/100\n",
      "24/24 [==============================] - 0s 783us/step - loss: 0.9853 - accuracy: 0.4627\n",
      "Epoch 2/100\n",
      "24/24 [==============================] - 0s 576us/step - loss: 0.9105 - accuracy: 0.4547\n",
      "Epoch 3/100\n",
      "24/24 [==============================] - 0s 600us/step - loss: 0.8422 - accuracy: 0.4560\n",
      "Epoch 4/100\n",
      "24/24 [==============================] - 0s 616us/step - loss: 0.7811 - accuracy: 0.4653\n",
      "Epoch 5/100\n",
      "24/24 [==============================] - 0s 579us/step - loss: 0.7251 - accuracy: 0.4760\n",
      "Epoch 6/100\n",
      "24/24 [==============================] - 0s 577us/step - loss: 0.6746 - accuracy: 0.4987\n",
      "Epoch 7/100\n",
      "24/24 [==============================] - 0s 584us/step - loss: 0.6299 - accuracy: 0.5173\n",
      "Epoch 8/100\n",
      "24/24 [==============================] - 0s 553us/step - loss: 0.5880 - accuracy: 0.5533\n",
      "Epoch 9/100\n",
      "24/24 [==============================] - 0s 555us/step - loss: 0.5516 - accuracy: 0.6027\n",
      "Epoch 10/100\n",
      "24/24 [==============================] - 0s 544us/step - loss: 0.5179 - accuracy: 0.6667\n",
      "Epoch 11/100\n",
      "24/24 [==============================] - 0s 537us/step - loss: 0.4880 - accuracy: 0.7893\n",
      "Epoch 12/100\n",
      "24/24 [==============================] - 0s 574us/step - loss: 0.4611 - accuracy: 0.8827\n",
      "Epoch 13/100\n",
      "24/24 [==============================] - 0s 554us/step - loss: 0.4375 - accuracy: 0.8867\n",
      "Epoch 14/100\n",
      "24/24 [==============================] - 0s 580us/step - loss: 0.4169 - accuracy: 0.8880\n",
      "Epoch 15/100\n",
      "24/24 [==============================] - 0s 539us/step - loss: 0.3979 - accuracy: 0.8880\n",
      "Epoch 16/100\n",
      "24/24 [==============================] - 0s 563us/step - loss: 0.3820 - accuracy: 0.8880\n",
      "Epoch 17/100\n",
      "24/24 [==============================] - 0s 554us/step - loss: 0.3674 - accuracy: 0.8880\n",
      "Epoch 18/100\n",
      "24/24 [==============================] - 0s 561us/step - loss: 0.3547 - accuracy: 0.8893\n",
      "Epoch 19/100\n",
      "24/24 [==============================] - 0s 540us/step - loss: 0.3434 - accuracy: 0.8880\n",
      "Epoch 20/100\n",
      "24/24 [==============================] - 0s 535us/step - loss: 0.3334 - accuracy: 0.8893\n",
      "Epoch 21/100\n",
      "24/24 [==============================] - 0s 536us/step - loss: 0.3246 - accuracy: 0.8880\n",
      "Epoch 22/100\n",
      "24/24 [==============================] - 0s 577us/step - loss: 0.3167 - accuracy: 0.8867\n",
      "Epoch 23/100\n",
      "24/24 [==============================] - 0s 554us/step - loss: 0.3096 - accuracy: 0.8853\n",
      "Epoch 24/100\n",
      "24/24 [==============================] - 0s 546us/step - loss: 0.3035 - accuracy: 0.8867\n",
      "Epoch 25/100\n",
      "24/24 [==============================] - 0s 549us/step - loss: 0.2980 - accuracy: 0.8880\n",
      "Epoch 26/100\n",
      "24/24 [==============================] - 0s 560us/step - loss: 0.2932 - accuracy: 0.8880\n",
      "Epoch 27/100\n",
      "24/24 [==============================] - 0s 557us/step - loss: 0.2887 - accuracy: 0.8893\n",
      "Epoch 28/100\n",
      "24/24 [==============================] - 0s 538us/step - loss: 0.2848 - accuracy: 0.8920\n",
      "Epoch 29/100\n",
      "24/24 [==============================] - 0s 545us/step - loss: 0.2814 - accuracy: 0.8920\n",
      "Epoch 30/100\n",
      "24/24 [==============================] - 0s 549us/step - loss: 0.2786 - accuracy: 0.8920\n",
      "Epoch 31/100\n",
      "24/24 [==============================] - 0s 560us/step - loss: 0.2757 - accuracy: 0.8920\n",
      "Epoch 32/100\n",
      "24/24 [==============================] - 0s 516us/step - loss: 0.2735 - accuracy: 0.8907\n",
      "Epoch 33/100\n",
      "24/24 [==============================] - 0s 508us/step - loss: 0.2714 - accuracy: 0.8893\n",
      "Epoch 34/100\n",
      "24/24 [==============================] - 0s 594us/step - loss: 0.2694 - accuracy: 0.8893\n",
      "Epoch 35/100\n",
      "24/24 [==============================] - 0s 579us/step - loss: 0.2677 - accuracy: 0.8893\n",
      "Epoch 36/100\n",
      "24/24 [==============================] - 0s 616us/step - loss: 0.2662 - accuracy: 0.8893\n",
      "Epoch 37/100\n",
      "24/24 [==============================] - 0s 565us/step - loss: 0.2649 - accuracy: 0.8893\n",
      "Epoch 38/100\n",
      "24/24 [==============================] - 0s 560us/step - loss: 0.2637 - accuracy: 0.8893\n",
      "Epoch 39/100\n",
      "24/24 [==============================] - 0s 566us/step - loss: 0.2627 - accuracy: 0.8893\n",
      "Epoch 40/100\n",
      "24/24 [==============================] - 0s 548us/step - loss: 0.2617 - accuracy: 0.8893\n",
      "Epoch 41/100\n",
      "24/24 [==============================] - 0s 551us/step - loss: 0.2609 - accuracy: 0.8907\n",
      "Epoch 42/100\n",
      "24/24 [==============================] - 0s 540us/step - loss: 0.2602 - accuracy: 0.8920\n",
      "Epoch 43/100\n",
      "24/24 [==============================] - 0s 555us/step - loss: 0.2595 - accuracy: 0.8920\n",
      "Epoch 44/100\n",
      "24/24 [==============================] - 0s 549us/step - loss: 0.2590 - accuracy: 0.8920\n",
      "Epoch 45/100\n",
      "24/24 [==============================] - 0s 567us/step - loss: 0.2584 - accuracy: 0.8933\n",
      "Epoch 46/100\n",
      "24/24 [==============================] - 0s 550us/step - loss: 0.2579 - accuracy: 0.8920\n",
      "Epoch 47/100\n",
      "24/24 [==============================] - 0s 556us/step - loss: 0.2574 - accuracy: 0.8920\n",
      "Epoch 48/100\n",
      "24/24 [==============================] - 0s 554us/step - loss: 0.2570 - accuracy: 0.8920\n",
      "Epoch 49/100\n",
      "24/24 [==============================] - 0s 553us/step - loss: 0.2566 - accuracy: 0.8920\n",
      "Epoch 50/100\n",
      "24/24 [==============================] - 0s 547us/step - loss: 0.2563 - accuracy: 0.8920\n",
      "Epoch 51/100\n",
      "24/24 [==============================] - 0s 535us/step - loss: 0.2559 - accuracy: 0.8920\n",
      "Epoch 52/100\n",
      "24/24 [==============================] - 0s 547us/step - loss: 0.2557 - accuracy: 0.8933\n",
      "Epoch 53/100\n",
      "24/24 [==============================] - 0s 565us/step - loss: 0.2554 - accuracy: 0.8933\n",
      "Epoch 54/100\n",
      "24/24 [==============================] - 0s 550us/step - loss: 0.2552 - accuracy: 0.8947\n",
      "Epoch 55/100\n",
      "24/24 [==============================] - 0s 523us/step - loss: 0.2550 - accuracy: 0.8947\n",
      "Epoch 56/100\n",
      "24/24 [==============================] - 0s 560us/step - loss: 0.2548 - accuracy: 0.8947\n",
      "Epoch 57/100\n",
      "24/24 [==============================] - 0s 579us/step - loss: 0.2547 - accuracy: 0.8960\n",
      "Epoch 58/100\n",
      "24/24 [==============================] - 0s 563us/step - loss: 0.2545 - accuracy: 0.8960\n",
      "Epoch 59/100\n",
      "24/24 [==============================] - 0s 543us/step - loss: 0.2543 - accuracy: 0.8960\n",
      "Epoch 60/100\n",
      "24/24 [==============================] - 0s 602us/step - loss: 0.2542 - accuracy: 0.8947\n",
      "Epoch 61/100\n",
      "24/24 [==============================] - 0s 556us/step - loss: 0.2541 - accuracy: 0.8960\n",
      "Epoch 62/100\n",
      "24/24 [==============================] - 0s 621us/step - loss: 0.2539 - accuracy: 0.8960\n",
      "Epoch 63/100\n",
      "24/24 [==============================] - 0s 584us/step - loss: 0.2538 - accuracy: 0.8960\n",
      "Epoch 64/100\n",
      "24/24 [==============================] - 0s 578us/step - loss: 0.2536 - accuracy: 0.8960\n",
      "Epoch 65/100\n",
      "24/24 [==============================] - 0s 586us/step - loss: 0.2535 - accuracy: 0.8960\n",
      "Epoch 66/100\n",
      "24/24 [==============================] - 0s 575us/step - loss: 0.2535 - accuracy: 0.8960\n",
      "Epoch 67/100\n",
      "24/24 [==============================] - 0s 557us/step - loss: 0.2533 - accuracy: 0.8960\n",
      "Epoch 68/100\n",
      "24/24 [==============================] - 0s 593us/step - loss: 0.2532 - accuracy: 0.8960\n",
      "Epoch 69/100\n",
      "24/24 [==============================] - 0s 577us/step - loss: 0.2532 - accuracy: 0.8973\n",
      "Epoch 70/100\n",
      "24/24 [==============================] - 0s 533us/step - loss: 0.2531 - accuracy: 0.8987\n",
      "Epoch 71/100\n",
      "24/24 [==============================] - 0s 556us/step - loss: 0.2531 - accuracy: 0.8987\n",
      "Epoch 72/100\n",
      "24/24 [==============================] - 0s 547us/step - loss: 0.2529 - accuracy: 0.8987\n",
      "Epoch 73/100\n",
      "24/24 [==============================] - 0s 572us/step - loss: 0.2530 - accuracy: 0.8987\n",
      "Epoch 74/100\n",
      "24/24 [==============================] - 0s 625us/step - loss: 0.2529 - accuracy: 0.8973\n",
      "Epoch 75/100\n",
      "24/24 [==============================] - 0s 567us/step - loss: 0.2528 - accuracy: 0.8973\n",
      "Epoch 76/100\n",
      "24/24 [==============================] - 0s 599us/step - loss: 0.2528 - accuracy: 0.8987\n",
      "Epoch 77/100\n",
      "24/24 [==============================] - 0s 570us/step - loss: 0.2526 - accuracy: 0.8987\n",
      "Epoch 78/100\n",
      "24/24 [==============================] - 0s 557us/step - loss: 0.2526 - accuracy: 0.8987\n",
      "Epoch 79/100\n",
      "24/24 [==============================] - 0s 558us/step - loss: 0.2526 - accuracy: 0.8987\n",
      "Epoch 80/100\n",
      "24/24 [==============================] - 0s 515us/step - loss: 0.2525 - accuracy: 0.8987\n",
      "Epoch 81/100\n"
     ]
    },
    {
     "name": "stdout",
     "output_type": "stream",
     "text": [
      "24/24 [==============================] - 0s 542us/step - loss: 0.2524 - accuracy: 0.8987\n",
      "Epoch 82/100\n",
      "24/24 [==============================] - 0s 580us/step - loss: 0.2524 - accuracy: 0.8987\n",
      "Epoch 83/100\n",
      "24/24 [==============================] - 0s 542us/step - loss: 0.2523 - accuracy: 0.8987\n",
      "Epoch 84/100\n",
      "24/24 [==============================] - 0s 530us/step - loss: 0.2523 - accuracy: 0.8973\n",
      "Epoch 85/100\n",
      "24/24 [==============================] - 0s 520us/step - loss: 0.2522 - accuracy: 0.8960\n",
      "Epoch 86/100\n",
      "24/24 [==============================] - 0s 545us/step - loss: 0.2522 - accuracy: 0.8960\n",
      "Epoch 87/100\n",
      "24/24 [==============================] - 0s 524us/step - loss: 0.2521 - accuracy: 0.8973\n",
      "Epoch 88/100\n",
      "24/24 [==============================] - 0s 530us/step - loss: 0.2521 - accuracy: 0.8960\n",
      "Epoch 89/100\n",
      "24/24 [==============================] - 0s 547us/step - loss: 0.2521 - accuracy: 0.8960\n",
      "Epoch 90/100\n",
      "24/24 [==============================] - 0s 532us/step - loss: 0.2520 - accuracy: 0.8973\n",
      "Epoch 91/100\n",
      "24/24 [==============================] - 0s 498us/step - loss: 0.2519 - accuracy: 0.8960\n",
      "Epoch 92/100\n",
      "24/24 [==============================] - 0s 552us/step - loss: 0.2519 - accuracy: 0.8960\n",
      "Epoch 93/100\n",
      "24/24 [==============================] - 0s 547us/step - loss: 0.2518 - accuracy: 0.8960\n",
      "Epoch 94/100\n",
      "24/24 [==============================] - 0s 543us/step - loss: 0.2518 - accuracy: 0.8960\n",
      "Epoch 95/100\n",
      "24/24 [==============================] - 0s 534us/step - loss: 0.2519 - accuracy: 0.8987\n",
      "Epoch 96/100\n",
      "24/24 [==============================] - 0s 542us/step - loss: 0.2517 - accuracy: 0.8960\n",
      "Epoch 97/100\n",
      "24/24 [==============================] - 0s 535us/step - loss: 0.2517 - accuracy: 0.8960\n",
      "Epoch 98/100\n",
      "24/24 [==============================] - 0s 523us/step - loss: 0.2517 - accuracy: 0.8960\n",
      "Epoch 99/100\n",
      "24/24 [==============================] - 0s 566us/step - loss: 0.2517 - accuracy: 0.8960\n",
      "Epoch 100/100\n",
      "24/24 [==============================] - 0s 528us/step - loss: 0.2517 - accuracy: 0.8960\n"
     ]
    }
   ],
   "source": [
    "# Compile the Sequential model together and customize metrics\n",
    "new_model.compile(loss=\"binary_crossentropy\", optimizer=\"adam\", metrics=[\"accuracy\"])\n",
    "\n",
    "# Fit the model to the training data\n",
    "new_fit_model = new_model.fit(X_moon_train_scaled, y_moon_train, epochs=100, shuffle=True)"
   ]
  },
  {
   "cell_type": "code",
   "execution_count": null,
   "metadata": {},
   "outputs": [],
   "source": []
  }
 ],
 "metadata": {
  "kernelspec": {
   "display_name": "PythonData",
   "language": "python",
   "name": "pythondata"
  },
  "language_info": {
   "codemirror_mode": {
    "name": "ipython",
    "version": 3
   },
   "file_extension": ".py",
   "mimetype": "text/x-python",
   "name": "python",
   "nbconvert_exporter": "python",
   "pygments_lexer": "ipython3",
   "version": "3.8.5"
  }
 },
 "nbformat": 4,
 "nbformat_minor": 4
}
